{
 "metadata": {
  "name": ""
 },
 "nbformat": 3,
 "nbformat_minor": 0,
 "worksheets": [
  {
   "cells": [
    {
     "cell_type": "code",
     "collapsed": false,
     "input": [],
     "language": "python",
     "metadata": {},
     "outputs": []
    },
    {
     "cell_type": "code",
     "collapsed": false,
     "input": [
      "# Load the data. Make sure you have the right path to the imagenet model file.\n",
      "%matplotlib inline\n",
      "from decaf.scripts import imagenet\n",
      "from decaf.util import visualize\n",
      "from matplotlib import pyplot\n",
      "import numpy as np\n",
      "import pylab\n",
      "from sklearn.metrics import average_precision_score\n",
      "from scipy.stats import pearsonr\n",
      "import os.path\n",
      "from IPython.parallel import Client\n",
      "\n",
      "rc = Client()\n",
      "dview = rc[:]\n",
      "\n",
      "# We will use a larger figure size since many figures are fairly big.\n",
      "pylab.rcParams['figure.figsize'] = (10.0, 10.0)\n",
      "\n",
      "dataset_dir = '../datasets/holidays/'\n",
      "imagenet_dir = 'imagenet_pretrained'"
     ],
     "language": "python",
     "metadata": {},
     "outputs": [
      {
       "output_type": "stream",
       "stream": "stderr",
       "text": [
        "WARNING:root:decaf.util.pyvml: unable to load the mkl library. Using fallback options.\n"
       ]
      },
      {
       "output_type": "stream",
       "stream": "stdout",
       "text": [
        "Couldn't import dot_parser, loading of dot files will not be possible.\n"
       ]
      }
     ],
     "prompt_number": 2
    },
    {
     "cell_type": "code",
     "collapsed": false,
     "input": [
      "with dview.sync_imports():\n",
      "    from decaf.scripts import imagenet\n",
      "    import pylab\n",
      "    import os\n",
      "    import os.path\n",
      "    import numpy\n",
      "    from sklearn.metrics import average_precision_score\n",
      "    from scipy.stats import chisquare\n",
      "    import math"
     ],
     "language": "python",
     "metadata": {},
     "outputs": [
      {
       "output_type": "stream",
       "stream": "stdout",
       "text": [
        "importing imagenet from decaf.scripts on engine(s)\n",
        "importing pylab on engine(s)\n",
        "importing os on engine(s)\n",
        "importing os.path on engine(s)"
       ]
      },
      {
       "output_type": "stream",
       "stream": "stdout",
       "text": [
        "\n",
        "importing numpy on engine(s)\n",
        "importing average_precision_score from sklearn.metrics on engine(s)\n",
        "importing chisquare from scipy.stats on engine(s)\n",
        "importing math on engine(s)\n"
       ]
      }
     ],
     "prompt_number": 3
    },
    {
     "cell_type": "code",
     "collapsed": false,
     "input": [
      "def get_holidays_groundtruth():\n",
      "  \"\"\" Read datafile holidays_images.dat and output a dictionary\n",
      "  mapping queries to the set of positive results (plus a list of all\n",
      "  images)\"\"\"\n",
      "  gt={}\n",
      "  allnames=set()\n",
      "  for line in open(os.path.join(dataset_dir, 'holidays_images.dat'),'r'):\n",
      "    imname=line.strip()\n",
      "    allnames.add(imname)\n",
      "    imno=int(imname[:-len('.jpg')])    \n",
      "    if imno%100==0:\n",
      "      gt_results=set()\n",
      "      gt[imname]=gt_results\n",
      "    else:\n",
      "      gt_results.add(imname)\n",
      "  return (allnames,gt)\n",
      "    \n",
      "holidays_names, holidays_map = get_holidays_groundtruth()\n",
      "\n",
      "dview['holidays_names'] = holidays_names\n",
      "dview['holidays_map'] = holidays_map"
     ],
     "language": "python",
     "metadata": {},
     "outputs": [],
     "prompt_number": 4
    },
    {
     "cell_type": "code",
     "collapsed": false,
     "input": [
      "# TODO: try to reproduce krizhevsky's results in retrieval?? we gotta needa download ImageNet dataset for that\n",
      "\n",
      "# TODO: not only holidays, try Kentucky dataset, see Perronin paper\n",
      "\n",
      "def run_net_on_img(filename):\n",
      "    dataset_dir = '../datasets/holidays/'\n",
      "    imagenet_dir = 'imagenet_pretrained'\n",
      "    \n",
      "    img = pylab.imread(os.path.join(dataset_dir, 'jpg', filename))\n",
      "    net = imagenet.DecafNet(os.path.join(imagenet_dir, 'imagenet.decafnet.epoch90'), os.path.join(imagenet_dir, 'imagenet.decafnet.meta'))\n",
      "    scores = net.classify(img, center_only=True)\n",
      "    feat6 = net.feature('fc6_cudanet_out')[0]\n",
      "    feat7 = net.feature('fc7_cudanet_out')[0]\n",
      "    return (feat6, feat7, scores)\n",
      "\n",
      "def run_net_on_img_flip(filename):\n",
      "    dataset_dir = '../datasets/holidays/'\n",
      "    imagenet_dir = 'imagenet_pretrained'\n",
      "    \n",
      "    img = pylab.imread(os.path.join(dataset_dir, 'jpg', filename))\n",
      "    img = img[:,::-1,:]    \n",
      "    net = imagenet.DecafNet(os.path.join(imagenet_dir, 'imagenet.decafnet.epoch90'), os.path.join(imagenet_dir, 'imagenet.decafnet.meta'))\n",
      "    scores = net.classify(img, center_only=True)\n",
      "    feat6 = net.feature('fc6_cudanet_out')[0]\n",
      "    feat7 = net.feature('fc7_cudanet_out')[0]\n",
      "    return (feat6, feat7, scores)"
     ],
     "language": "python",
     "metadata": {},
     "outputs": [],
     "prompt_number": 5
    },
    {
     "cell_type": "code",
     "collapsed": false,
     "input": [
      "%%time\n",
      "#results = map(run_net_on_img, sorted(list(holidays_names))[:24])"
     ],
     "language": "python",
     "metadata": {},
     "outputs": [
      {
       "output_type": "stream",
       "stream": "stdout",
       "text": [
        "CPU times: user 0 ns, sys: 0 ns, total: 0 ns\n",
        "Wall time: 5.01 \u00b5s\n"
       ]
      }
     ],
     "prompt_number": 6
    },
    {
     "cell_type": "code",
     "collapsed": false,
     "input": [
      "%%time\n",
      "results = dview.map_sync(run_net_on_img, sorted(list(holidays_names)))"
     ],
     "language": "python",
     "metadata": {},
     "outputs": [
      {
       "output_type": "stream",
       "stream": "stdout",
       "text": [
        "CPU times: user 1min 8s, sys: 4.42 s, total: 1min 13s\n",
        "Wall time: 6min 26s\n"
       ]
      }
     ],
     "prompt_number": 7
    },
    {
     "cell_type": "code",
     "collapsed": false,
     "input": [
      "%%time\n",
      "results_flip = dview.map_sync(run_net_on_img_flip, sorted(list(holidays_names)))"
     ],
     "language": "python",
     "metadata": {},
     "outputs": [
      {
       "output_type": "stream",
       "stream": "stdout",
       "text": [
        "CPU times: user 1min 7s, sys: 4.52 s, total: 1min 12s\n",
        "Wall time: 6min 33s\n"
       ]
      }
     ],
     "prompt_number": 8
    },
    {
     "cell_type": "code",
     "collapsed": false,
     "input": [
      "len(results)"
     ],
     "language": "python",
     "metadata": {},
     "outputs": [
      {
       "metadata": {},
       "output_type": "pyout",
       "prompt_number": 9,
       "text": [
        "1491"
       ]
      }
     ],
     "prompt_number": 9
    },
    {
     "cell_type": "code",
     "collapsed": false,
     "input": [
      "dict_results = {name: results[i] for i,name in enumerate(sorted(list(holidays_names)))}\n",
      "dict_results_flip = {name: results_flip[i] for i,name in enumerate(sorted(list(holidays_names)))}\n",
      "dview['dict_results'] = dict_results"
     ],
     "language": "python",
     "metadata": {},
     "outputs": [],
     "prompt_number": 10
    },
    {
     "cell_type": "code",
     "collapsed": false,
     "input": [
      "def compute_ap_l2((query, layer)):\n",
      "    query_vector = dict_results[query][layer]\n",
      "    true_names = holidays_map[query]\n",
      "    test_names = [name for name in dict_results if name != query]\n",
      "    y_true = numpy.zeros(len(test_names))\n",
      "    y_dist = numpy.zeros(len(test_names))\n",
      "    for iname, name in enumerate(test_names):\n",
      "        if name in true_names:\n",
      "            y_true[iname] = 1\n",
      "        vector = dict_results[name][layer]\n",
      "        y_dist[iname] = numpy.sum((vector - query_vector)**2)\n",
      "    if False:\n",
      "        print query\n",
      "        print 'Top 20:'\n",
      "        order = numpy.argsort(y_dist)\n",
      "        names_reordered = [test_names[i] for i in order]\n",
      "        dists_reordered = y_dist[order]\n",
      "        trues_reordered = y_true[order]\n",
      "        print '\\n'.join('%f\\t%s\\t %d' % (dist, name, true) for name, dist, true in zip(names_reordered, dists_reordered, trues_reordered)[:20])\n",
      "    return average_precision_score(y_true, -y_dist)\n",
      "\n",
      "def compute_ap_l1((query, layer)):\n",
      "    query_vector = dict_results[query][layer]\n",
      "    true_names = holidays_map[query]\n",
      "    test_names = [name for name in dict_results if name != query]\n",
      "    y_true = numpy.zeros(len(test_names))\n",
      "    y_dist = numpy.zeros(len(test_names))\n",
      "    for iname, name in enumerate(test_names):\n",
      "        if name in true_names:\n",
      "            y_true[iname] = 1\n",
      "        vector = dict_results[name][layer]\n",
      "        y_dist[iname] = numpy.sum(numpy.abs(vector - query_vector))\n",
      "    return average_precision_score(y_true, -y_dist)\n",
      "\n",
      "def compute_ap_cos((query, layer)):\n",
      "    query_vector = dict_results[query][layer].copy()\n",
      "    query_vector /= math.sqrt(numpy.sum(query_vector**2))\n",
      "    true_names = holidays_map[query]\n",
      "    test_names = [name for name in dict_results if name != query]\n",
      "    y_true = numpy.zeros(len(test_names))\n",
      "    y_score = numpy.zeros(len(test_names))\n",
      "    for iname, name in enumerate(test_names):\n",
      "        if name in true_names:\n",
      "            y_true[iname] = 1\n",
      "        vector = dict_results[name][layer].copy()\n",
      "        vector /= math.sqrt(numpy.sum(vector**2))\n",
      "        y_score[iname] = numpy.sum(vector * query_vector)\n",
      "    return average_precision_score(y_true, y_score)\n",
      "\n",
      "def compute_ap_chisq((query, layer)):\n",
      "    query_vector = dict_results[query][layer]\n",
      "    true_names = holidays_map[query]\n",
      "    test_names = [name for name in dict_results if name != query]\n",
      "    y_true = numpy.zeros(len(test_names))\n",
      "    y_dist = numpy.zeros(len(test_names))\n",
      "    for iname, name in enumerate(test_names):\n",
      "        if name in true_names:\n",
      "            y_true[iname] = 1\n",
      "        vector = dict_results[name][layer]\n",
      "        y_dist[iname] = chisquare(vector, query_vector)[0]\n",
      "    return average_precision_score(y_true, -y_dist)"
     ],
     "language": "python",
     "metadata": {},
     "outputs": [],
     "prompt_number": 11
    },
    {
     "cell_type": "code",
     "collapsed": false,
     "input": [
      "def compute_map(layer, func):\n",
      "    #aps = map(compute_ap, ((q, variant) for q in holidays_map))\n",
      "    aps = dview.map_sync(func, ((q, layer) for q in holidays_map))\n",
      "    return np.mean(aps)"
     ],
     "language": "python",
     "metadata": {},
     "outputs": [],
     "prompt_number": 12
    },
    {
     "cell_type": "code",
     "collapsed": false,
     "input": [
      "ap_funcs = [compute_ap_l2, compute_ap_l1, compute_ap_cos, compute_ap_chisq]\n",
      "layers = [0, 1, 2]"
     ],
     "language": "python",
     "metadata": {},
     "outputs": [],
     "prompt_number": 13
    },
    {
     "cell_type": "code",
     "collapsed": false,
     "input": [
      "%%time\n",
      "for func in ap_funcs:\n",
      "    print 'Func:', func.__name__\n",
      "    for layer in layers:\n",
      "        print compute_map(layer, func)"
     ],
     "language": "python",
     "metadata": {},
     "outputs": [
      {
       "output_type": "stream",
       "stream": "stdout",
       "text": [
        "Func: compute_ap_l2\n",
        "0.614082829019"
       ]
      },
      {
       "output_type": "stream",
       "stream": "stdout",
       "text": [
        "\n",
        "0.586535527799"
       ]
      },
      {
       "output_type": "stream",
       "stream": "stdout",
       "text": [
        "\n",
        "0.230156788493"
       ]
      },
      {
       "output_type": "stream",
       "stream": "stdout",
       "text": [
        "\n",
        "Func: compute_ap_l1\n",
        "0.611756336083"
       ]
      },
      {
       "output_type": "stream",
       "stream": "stdout",
       "text": [
        "\n",
        "0.585723117596"
       ]
      },
      {
       "output_type": "stream",
       "stream": "stdout",
       "text": [
        "\n",
        "0.336163256983"
       ]
      },
      {
       "output_type": "stream",
       "stream": "stdout",
       "text": [
        "\n",
        "Func: compute_ap_cos\n",
        "0.680289157451"
       ]
      },
      {
       "output_type": "stream",
       "stream": "stdout",
       "text": [
        "\n",
        "0.659604403316"
       ]
      },
      {
       "output_type": "stream",
       "stream": "stdout",
       "text": [
        "\n",
        "0.261630380174"
       ]
      },
      {
       "output_type": "stream",
       "stream": "stdout",
       "text": [
        "\n",
        "Func: compute_ap_chisq\n",
        "0.00207682378587"
       ]
      },
      {
       "output_type": "stream",
       "stream": "stdout",
       "text": [
        "\n",
        "0.0020257651006"
       ]
      },
      {
       "output_type": "stream",
       "stream": "stdout",
       "text": [
        "\n",
        "0.369803512609"
       ]
      },
      {
       "output_type": "stream",
       "stream": "stdout",
       "text": [
        "\n",
        "CPU times: user 5.15 s, sys: 236 ms, total: 5.38 s\n",
        "Wall time: 48 s\n"
       ]
      }
     ],
     "prompt_number": 14
    },
    {
     "cell_type": "code",
     "collapsed": false,
     "input": [],
     "language": "python",
     "metadata": {},
     "outputs": []
    },
    {
     "cell_type": "markdown",
     "metadata": {},
     "source": [
      " Vector sizes. \n",
      "   1. Ours: 4096\n",
      "   2. In the article:\n",
      "     * Uncompressed descriptor: size = D*N, D=64. Corresponding N for ours is 4096/64 = 64\n",
      "     * Compressed descriptor: they are to small, we can't compare.\n",
      "     \n",
      "     \n",
      "  Comparison vs. uncompressed, optimal $\\alpha$\n",
      "\n",
      "|        | our best (layer 6) | their same size (N=64) | their best (N=4096 for Holidays, and N=512 for Kentucky) |\n",
      "|--------|-----:|-----:|----------:|\n",
      "|Holidays| 0.68 | 0.60 |  **0.70** |\n",
      "|Kentucky| 3.42 | 3.27 |  **3.44** |\n"
     ]
    },
    {
     "cell_type": "markdown",
     "metadata": {},
     "source": [
      "Conclusion: \n",
      "  0. Compared to uncompressed Perronin's features of same size, decaf is noticeably better for both Holidays and Kentucky.\n",
      "  0. Compared to uncompressed Perronin's features of maximum size in the paper, decaf is slighly worse for both Holidays and Kentucky.\n",
      "  0. Among different layers of decaf, the layer 6 is always the best.\n",
      "  0. There is nearly no correlation of results with the net's confidences, which kinda proves that the descriptors are somewhat general.\n",
      "  0. I haven't tested Perronin's compression on decaf features."
     ]
    },
    {
     "cell_type": "code",
     "collapsed": false,
     "input": [],
     "language": "python",
     "metadata": {},
     "outputs": []
    },
    {
     "cell_type": "code",
     "collapsed": false,
     "input": [],
     "language": "python",
     "metadata": {},
     "outputs": []
    },
    {
     "cell_type": "code",
     "collapsed": false,
     "input": [],
     "language": "python",
     "metadata": {},
     "outputs": []
    },
    {
     "cell_type": "code",
     "collapsed": false,
     "input": [],
     "language": "python",
     "metadata": {},
     "outputs": []
    },
    {
     "cell_type": "code",
     "collapsed": false,
     "input": [
      "layer = 0\n",
      "func= compute_ap_cos\n",
      "confidences = [np.max(dict_results[q][layer]) for q in holidays_map]\n",
      "aps = dview.map_sync(func, ((q, layer) for q in holidays_map))"
     ],
     "language": "python",
     "metadata": {},
     "outputs": [],
     "prompt_number": 29
    },
    {
     "cell_type": "code",
     "collapsed": false,
     "input": [
      "scatter(confidences, aps)"
     ],
     "language": "python",
     "metadata": {},
     "outputs": [
      {
       "metadata": {},
       "output_type": "pyout",
       "prompt_number": 30,
       "text": [
        "<matplotlib.collections.PathCollection at 0x34fb1f50>"
       ]
      },
      {
       "metadata": {},
       "output_type": "display_data",
       "png": "[encoded data removed]",
       "text": [
        "<matplotlib.figure.Figure at 0xab6dfd0>"
       ]
      }
     ],
     "prompt_number": 30
    },
    {
     "cell_type": "code",
     "collapsed": false,
     "input": [
      "pearsonr(confidences, aps)"
     ],
     "language": "python",
     "metadata": {},
     "outputs": [
      {
       "metadata": {},
       "output_type": "pyout",
       "prompt_number": 31,
       "text": [
        "(0.069822748273287952, 0.11893014890305893)"
       ]
      }
     ],
     "prompt_number": 31
    },
    {
     "cell_type": "code",
     "collapsed": false,
     "input": [
      "np.where(np.array(confidences) < 0.05)"
     ],
     "language": "python",
     "metadata": {},
     "outputs": []
    },
    {
     "cell_type": "code",
     "collapsed": false,
     "input": [
      "aps[58]"
     ],
     "language": "python",
     "metadata": {},
     "outputs": []
    },
    {
     "cell_type": "code",
     "collapsed": false,
     "input": [
      "holidays_map.keys()[58]"
     ],
     "language": "python",
     "metadata": {},
     "outputs": []
    },
    {
     "cell_type": "code",
     "collapsed": false,
     "input": [
      "compute_ap_l2(('147900.jpg', 0))"
     ],
     "language": "python",
     "metadata": {},
     "outputs": [
      {
       "metadata": {},
       "output_type": "pyout",
       "prompt_number": 19,
       "text": [
        "1.0"
       ]
      }
     ],
     "prompt_number": 19
    },
    {
     "cell_type": "code",
     "collapsed": false,
     "input": [
      "# this seems to be very unique image"
     ],
     "language": "python",
     "metadata": {},
     "outputs": []
    },
    {
     "cell_type": "code",
     "collapsed": false,
     "input": [
      "def try_flipped():\n",
      "    faked_dict_results = dict_results.copy()\n",
      "    for q in holidays_map:\n",
      "        faked_dict_results[q] = dict_results_flip[q]\n",
      "    assert any(x != y for x, y in zip(faked_dict_results['100000.jpg'], dict_results['100000.jpg']))\n",
      "    assert faked_dict_results['100001.jpg'] == dict_results['100001.jpg']\n",
      "    dview['dict_results'] = faked_dict_results\n",
      "    for func in ap_funcs:\n",
      "        print 'Func:', func.__name__\n",
      "        for layer in layers:\n",
      "            print compute_map(layer, func)\n",
      "    dview['dict_results'] = dict_results # restore workers' state\n",
      "        \n",
      "try_flipped()"
     ],
     "language": "python",
     "metadata": {},
     "outputs": [
      {
       "output_type": "stream",
       "stream": "stdout",
       "text": [
        "Func: compute_ap_l2\n",
        "0.608048730152"
       ]
      },
      {
       "output_type": "stream",
       "stream": "stdout",
       "text": [
        "\n",
        "0.591635139224"
       ]
      },
      {
       "output_type": "stream",
       "stream": "stdout",
       "text": [
        "\n",
        "0.211013420212"
       ]
      },
      {
       "output_type": "stream",
       "stream": "stdout",
       "text": [
        "\n",
        "Func: compute_ap_l1\n",
        "0.609746019578"
       ]
      },
      {
       "output_type": "stream",
       "stream": "stdout",
       "text": [
        "\n",
        "0.588099539309"
       ]
      },
      {
       "output_type": "stream",
       "stream": "stdout",
       "text": [
        "\n",
        "0.342632093741"
       ]
      },
      {
       "output_type": "stream",
       "stream": "stdout",
       "text": [
        "\n",
        "Func: compute_ap_cos\n",
        "0.666522077876"
       ]
      },
      {
       "output_type": "stream",
       "stream": "stdout",
       "text": [
        "\n",
        "0.66212605545"
       ]
      },
      {
       "output_type": "stream",
       "stream": "stdout",
       "text": [
        "\n",
        "0.263966561889"
       ]
      },
      {
       "output_type": "stream",
       "stream": "stdout",
       "text": [
        "\n",
        "Func: compute_ap_chisq\n",
        "0.00179084907535"
       ]
      },
      {
       "output_type": "stream",
       "stream": "stdout",
       "text": [
        "\n",
        "0.00198429850137"
       ]
      },
      {
       "output_type": "stream",
       "stream": "stdout",
       "text": [
        "\n",
        "0.358246767434"
       ]
      },
      {
       "output_type": "stream",
       "stream": "stdout",
       "text": [
        "\n"
       ]
      }
     ],
     "prompt_number": 21
    },
    {
     "cell_type": "code",
     "collapsed": false,
     "input": [
      "# the results are worse for layer 1 and better for layer 2 hmmm\n",
      "# well, it is probably ok to NOT simmetrise the results for retrieval. but the results are interesting\n",
      "# TODO: do the same with Kentucky"
     ],
     "language": "python",
     "metadata": {},
     "outputs": [],
     "prompt_number": 23
    },
    {
     "cell_type": "code",
     "collapsed": false,
     "input": [],
     "language": "python",
     "metadata": {},
     "outputs": []
    },
    {
     "cell_type": "code",
     "collapsed": false,
     "input": [
      "def try_after_relu():\n",
      "    faked_dict_results = {}\n",
      "    # apply ReLU\n",
      "    for q in dict_results:\n",
      "        faked_dict_results[q] = tuple(np.clip(feat, 0, 1) for feat in dict_results[q])\n",
      "    dview['dict_results'] = faked_dict_results\n",
      "    try:\n",
      "        for func in ap_funcs:\n",
      "            print 'Func:', func.__name__\n",
      "            for layer in layers:\n",
      "                print compute_map(layer, func)\n",
      "    finally:\n",
      "        dview['dict_results'] = dict_results # restore workers' state\n",
      "        \n",
      "try_after_relu()"
     ],
     "language": "python",
     "metadata": {},
     "outputs": [
      {
       "output_type": "stream",
       "stream": "stdout",
       "text": [
        "Func: compute_ap_l2\n",
        "0.650331833693"
       ]
      },
      {
       "output_type": "stream",
       "stream": "stdout",
       "text": [
        "\n",
        "0.643012867113"
       ]
      },
      {
       "output_type": "stream",
       "stream": "stdout",
       "text": [
        "\n",
        "0.230156788493"
       ]
      },
      {
       "output_type": "stream",
       "stream": "stdout",
       "text": [
        "\n",
        "Func: compute_ap_l1\n",
        "0.649150582768"
       ]
      },
      {
       "output_type": "stream",
       "stream": "stdout",
       "text": [
        "\n",
        "0.625590915744"
       ]
      },
      {
       "output_type": "stream",
       "stream": "stdout",
       "text": [
        "\n",
        "0.336163256983"
       ]
      },
      {
       "output_type": "stream",
       "stream": "stdout",
       "text": [
        "\n",
        "Func: compute_ap_cos\n",
        "0.644445830763"
       ]
      },
      {
       "output_type": "stream",
       "stream": "stdout",
       "text": [
        "\n",
        "0.678079963262"
       ]
      },
      {
       "output_type": "stream",
       "stream": "stdout",
       "text": [
        "\n",
        "0.261630380174"
       ]
      },
      {
       "ename": "CompositeError",
       "evalue": "one or more exceptions from call to method: compute_ap_chisq\n[0:apply]: ValueError: Array contains NaN or infinity.\n[1:apply]: ValueError: Array contains NaN or infinity.\n[2:apply]: ValueError: Array contains NaN or infinity.\n[3:apply]: ValueError: Array contains NaN or infinity.\n.... 8 more exceptions ...",
       "output_type": "pyerr",
       "traceback": [
        "[0:apply]: ",
        "\u001b[0;31m---------------------------------------------------------------------------\u001b[0m",
        "\u001b[0;31mValueError\u001b[0m                                Traceback (most recent call last)\u001b[0;32m<string>\u001b[0m in \u001b[0;36m<module>\u001b[0;34m()\u001b[0m",
        "\u001b[0;32m<ipython-input-11-fa8b2c513331>\u001b[0m in \u001b[0;36mcompute_ap_chisq\u001b[0;34m((query, layer))\u001b[0m",
        "\u001b[0;32m/usr/lib/python2.7/dist-packages/sklearn/metrics/metrics.pyc\u001b[0m in \u001b[0;36maverage_precision_score\u001b[0;34m(y_true, y_score)\u001b[0m",
        "\u001b[1;32m    311\u001b[0m \u001b[0;34m\u001b[0m\u001b[0m",
        "\u001b[1;32m    312\u001b[0m     \"\"\"",
        "\u001b[0;32m--> 313\u001b[0;31m     \u001b[0mprecision\u001b[0m\u001b[0;34m,\u001b[0m \u001b[0mrecall\u001b[0m\u001b[0;34m,\u001b[0m \u001b[0mthresholds\u001b[0m \u001b[0;34m=\u001b[0m \u001b[0mprecision_recall_curve\u001b[0m\u001b[0;34m(\u001b[0m\u001b[0my_true\u001b[0m\u001b[0;34m,\u001b[0m \u001b[0my_score\u001b[0m\u001b[0;34m)\u001b[0m\u001b[0;34m\u001b[0m\u001b[0m",
        "\u001b[0m\u001b[1;32m    314\u001b[0m     \u001b[0;32mreturn\u001b[0m \u001b[0mauc\u001b[0m\u001b[0;34m(\u001b[0m\u001b[0mrecall\u001b[0m\u001b[0;34m,\u001b[0m \u001b[0mprecision\u001b[0m\u001b[0;34m)\u001b[0m\u001b[0;34m\u001b[0m\u001b[0m",
        "\u001b[1;32m    315\u001b[0m \u001b[0;34m\u001b[0m\u001b[0m",
        "\u001b[0;32m/usr/lib/python2.7/dist-packages/sklearn/metrics/metrics.pyc\u001b[0m in \u001b[0;36mprecision_recall_curve\u001b[0;34m(y_true, probas_pred, pos_label)\u001b[0m",
        "\u001b[1;32m    594\u001b[0m \u001b[0;34m\u001b[0m\u001b[0m",
        "\u001b[1;32m    595\u001b[0m     \"\"\"",
        "\u001b[0;32m--> 596\u001b[0;31m     \u001b[0mfps\u001b[0m\u001b[0;34m,\u001b[0m \u001b[0mtps\u001b[0m\u001b[0;34m,\u001b[0m \u001b[0mthresholds\u001b[0m \u001b[0;34m=\u001b[0m \u001b[0m_binary_clf_curve\u001b[0m\u001b[0;34m(\u001b[0m\u001b[0my_true\u001b[0m\u001b[0;34m,\u001b[0m \u001b[0mprobas_pred\u001b[0m\u001b[0;34m)\u001b[0m\u001b[0;34m\u001b[0m\u001b[0m",
        "\u001b[0m\u001b[1;32m    597\u001b[0m \u001b[0;34m\u001b[0m\u001b[0m",
        "\u001b[1;32m    598\u001b[0m     \u001b[0mprecision\u001b[0m \u001b[0;34m=\u001b[0m \u001b[0mtps\u001b[0m \u001b[0;34m/\u001b[0m \u001b[0;34m(\u001b[0m\u001b[0mtps\u001b[0m \u001b[0;34m+\u001b[0m \u001b[0mfps\u001b[0m\u001b[0;34m)\u001b[0m\u001b[0;34m\u001b[0m\u001b[0m",
        "\u001b[0;32m/usr/lib/python2.7/dist-packages/sklearn/metrics/metrics.pyc\u001b[0m in \u001b[0;36m_binary_clf_curve\u001b[0;34m(y_true, y_score, pos_label)\u001b[0m",
        "\u001b[1;32m    502\u001b[0m         \u001b[0mDecreasing\u001b[0m \u001b[0mscore\u001b[0m \u001b[0mvalues\u001b[0m\u001b[0;34m.\u001b[0m\u001b[0;34m\u001b[0m\u001b[0m",
        "\u001b[1;32m    503\u001b[0m     \"\"\"",
        "\u001b[0;32m--> 504\u001b[0;31m     \u001b[0my_true\u001b[0m\u001b[0;34m,\u001b[0m \u001b[0my_score\u001b[0m \u001b[0;34m=\u001b[0m \u001b[0mcheck_arrays\u001b[0m\u001b[0;34m(\u001b[0m\u001b[0my_true\u001b[0m\u001b[0;34m,\u001b[0m \u001b[0my_score\u001b[0m\u001b[0;34m)\u001b[0m\u001b[0;34m\u001b[0m\u001b[0m",
        "\u001b[0m\u001b[1;32m    505\u001b[0m     \u001b[0my_true\u001b[0m \u001b[0;34m=\u001b[0m \u001b[0mcolumn_or_1d\u001b[0m\u001b[0;34m(\u001b[0m\u001b[0my_true\u001b[0m\u001b[0;34m)\u001b[0m\u001b[0;34m\u001b[0m\u001b[0m",
        "\u001b[1;32m    506\u001b[0m     \u001b[0my_score\u001b[0m \u001b[0;34m=\u001b[0m \u001b[0mcolumn_or_1d\u001b[0m\u001b[0;34m(\u001b[0m\u001b[0my_score\u001b[0m\u001b[0;34m)\u001b[0m\u001b[0;34m\u001b[0m\u001b[0m",
        "\u001b[0;32m/usr/lib/python2.7/dist-packages/sklearn/utils/validation.pyc\u001b[0m in \u001b[0;36mcheck_arrays\u001b[0;34m(*arrays, **options)\u001b[0m",
        "\u001b[1;32m    231\u001b[0m                 \u001b[0;32melse\u001b[0m\u001b[0;34m:\u001b[0m\u001b[0;34m\u001b[0m\u001b[0m",
        "\u001b[1;32m    232\u001b[0m                     \u001b[0marray\u001b[0m \u001b[0;34m=\u001b[0m \u001b[0mnp\u001b[0m\u001b[0;34m.\u001b[0m\u001b[0masarray\u001b[0m\u001b[0;34m(\u001b[0m\u001b[0marray\u001b[0m\u001b[0;34m,\u001b[0m \u001b[0mdtype\u001b[0m\u001b[0;34m=\u001b[0m\u001b[0mdtype\u001b[0m\u001b[0;34m)\u001b[0m\u001b[0;34m\u001b[0m\u001b[0m",
        "\u001b[0;32m--> 233\u001b[0;31m                 \u001b[0m_assert_all_finite\u001b[0m\u001b[0;34m(\u001b[0m\u001b[0marray\u001b[0m\u001b[0;34m)\u001b[0m\u001b[0;34m\u001b[0m\u001b[0m",
        "\u001b[0m\u001b[1;32m    234\u001b[0m \u001b[0;34m\u001b[0m\u001b[0m",
        "\u001b[1;32m    235\u001b[0m         \u001b[0;32mif\u001b[0m \u001b[0mcopy\u001b[0m \u001b[0;32mand\u001b[0m \u001b[0marray\u001b[0m \u001b[0;32mis\u001b[0m \u001b[0marray_orig\u001b[0m\u001b[0;34m:\u001b[0m\u001b[0;34m\u001b[0m\u001b[0m",
        "\u001b[0;32m/usr/lib/python2.7/dist-packages/sklearn/utils/validation.pyc\u001b[0m in \u001b[0;36m_assert_all_finite\u001b[0;34m(X)\u001b[0m",
        "\u001b[1;32m     25\u001b[0m     if (X.dtype.char in np.typecodes['AllFloat'] and not np.isfinite(X.sum())",
        "\u001b[1;32m     26\u001b[0m             and not np.isfinite(X).all()):",
        "\u001b[0;32m---> 27\u001b[0;31m         \u001b[0;32mraise\u001b[0m \u001b[0mValueError\u001b[0m\u001b[0;34m(\u001b[0m\u001b[0;34m\"Array contains NaN or infinity.\"\u001b[0m\u001b[0;34m)\u001b[0m\u001b[0;34m\u001b[0m\u001b[0m",
        "\u001b[0m\u001b[1;32m     28\u001b[0m \u001b[0;34m\u001b[0m\u001b[0m",
        "\u001b[1;32m     29\u001b[0m \u001b[0;34m\u001b[0m\u001b[0m",
        "\u001b[0;31mValueError\u001b[0m: Array contains NaN or infinity.",
        "",
        "[1:apply]: ",
        "\u001b[0;31m---------------------------------------------------------------------------\u001b[0m",
        "\u001b[0;31mValueError\u001b[0m                                Traceback (most recent call last)\u001b[0;32m<string>\u001b[0m in \u001b[0;36m<module>\u001b[0;34m()\u001b[0m",
        "\u001b[0;32m<ipython-input-11-fa8b2c513331>\u001b[0m in \u001b[0;36mcompute_ap_chisq\u001b[0;34m((query, layer))\u001b[0m",
        "\u001b[0;32m/usr/lib/python2.7/dist-packages/sklearn/metrics/metrics.pyc\u001b[0m in \u001b[0;36maverage_precision_score\u001b[0;34m(y_true, y_score)\u001b[0m",
        "\u001b[1;32m    311\u001b[0m \u001b[0;34m\u001b[0m\u001b[0m",
        "\u001b[1;32m    312\u001b[0m     \"\"\"",
        "\u001b[0;32m--> 313\u001b[0;31m     \u001b[0mprecision\u001b[0m\u001b[0;34m,\u001b[0m \u001b[0mrecall\u001b[0m\u001b[0;34m,\u001b[0m \u001b[0mthresholds\u001b[0m \u001b[0;34m=\u001b[0m \u001b[0mprecision_recall_curve\u001b[0m\u001b[0;34m(\u001b[0m\u001b[0my_true\u001b[0m\u001b[0;34m,\u001b[0m \u001b[0my_score\u001b[0m\u001b[0;34m)\u001b[0m\u001b[0;34m\u001b[0m\u001b[0m",
        "\u001b[0m\u001b[1;32m    314\u001b[0m     \u001b[0;32mreturn\u001b[0m \u001b[0mauc\u001b[0m\u001b[0;34m(\u001b[0m\u001b[0mrecall\u001b[0m\u001b[0;34m,\u001b[0m \u001b[0mprecision\u001b[0m\u001b[0;34m)\u001b[0m\u001b[0;34m\u001b[0m\u001b[0m",
        "\u001b[1;32m    315\u001b[0m \u001b[0;34m\u001b[0m\u001b[0m",
        "\u001b[0;32m/usr/lib/python2.7/dist-packages/sklearn/metrics/metrics.pyc\u001b[0m in \u001b[0;36mprecision_recall_curve\u001b[0;34m(y_true, probas_pred, pos_label)\u001b[0m",
        "\u001b[1;32m    594\u001b[0m \u001b[0;34m\u001b[0m\u001b[0m",
        "\u001b[1;32m    595\u001b[0m     \"\"\"",
        "\u001b[0;32m--> 596\u001b[0;31m     \u001b[0mfps\u001b[0m\u001b[0;34m,\u001b[0m \u001b[0mtps\u001b[0m\u001b[0;34m,\u001b[0m \u001b[0mthresholds\u001b[0m \u001b[0;34m=\u001b[0m \u001b[0m_binary_clf_curve\u001b[0m\u001b[0;34m(\u001b[0m\u001b[0my_true\u001b[0m\u001b[0;34m,\u001b[0m \u001b[0mprobas_pred\u001b[0m\u001b[0;34m)\u001b[0m\u001b[0;34m\u001b[0m\u001b[0m",
        "\u001b[0m\u001b[1;32m    597\u001b[0m \u001b[0;34m\u001b[0m\u001b[0m",
        "\u001b[1;32m    598\u001b[0m     \u001b[0mprecision\u001b[0m \u001b[0;34m=\u001b[0m \u001b[0mtps\u001b[0m \u001b[0;34m/\u001b[0m \u001b[0;34m(\u001b[0m\u001b[0mtps\u001b[0m \u001b[0;34m+\u001b[0m \u001b[0mfps\u001b[0m\u001b[0;34m)\u001b[0m\u001b[0;34m\u001b[0m\u001b[0m",
        "\u001b[0;32m/usr/lib/python2.7/dist-packages/sklearn/metrics/metrics.pyc\u001b[0m in \u001b[0;36m_binary_clf_curve\u001b[0;34m(y_true, y_score, pos_label)\u001b[0m",
        "\u001b[1;32m    502\u001b[0m         \u001b[0mDecreasing\u001b[0m \u001b[0mscore\u001b[0m \u001b[0mvalues\u001b[0m\u001b[0;34m.\u001b[0m\u001b[0;34m\u001b[0m\u001b[0m",
        "\u001b[1;32m    503\u001b[0m     \"\"\"",
        "\u001b[0;32m--> 504\u001b[0;31m     \u001b[0my_true\u001b[0m\u001b[0;34m,\u001b[0m \u001b[0my_score\u001b[0m \u001b[0;34m=\u001b[0m \u001b[0mcheck_arrays\u001b[0m\u001b[0;34m(\u001b[0m\u001b[0my_true\u001b[0m\u001b[0;34m,\u001b[0m \u001b[0my_score\u001b[0m\u001b[0;34m)\u001b[0m\u001b[0;34m\u001b[0m\u001b[0m",
        "\u001b[0m\u001b[1;32m    505\u001b[0m     \u001b[0my_true\u001b[0m \u001b[0;34m=\u001b[0m \u001b[0mcolumn_or_1d\u001b[0m\u001b[0;34m(\u001b[0m\u001b[0my_true\u001b[0m\u001b[0;34m)\u001b[0m\u001b[0;34m\u001b[0m\u001b[0m",
        "\u001b[1;32m    506\u001b[0m     \u001b[0my_score\u001b[0m \u001b[0;34m=\u001b[0m \u001b[0mcolumn_or_1d\u001b[0m\u001b[0;34m(\u001b[0m\u001b[0my_score\u001b[0m\u001b[0;34m)\u001b[0m\u001b[0;34m\u001b[0m\u001b[0m",
        "\u001b[0;32m/usr/lib/python2.7/dist-packages/sklearn/utils/validation.pyc\u001b[0m in \u001b[0;36mcheck_arrays\u001b[0;34m(*arrays, **options)\u001b[0m",
        "\u001b[1;32m    231\u001b[0m                 \u001b[0;32melse\u001b[0m\u001b[0;34m:\u001b[0m\u001b[0;34m\u001b[0m\u001b[0m",
        "\u001b[1;32m    232\u001b[0m                     \u001b[0marray\u001b[0m \u001b[0;34m=\u001b[0m \u001b[0mnp\u001b[0m\u001b[0;34m.\u001b[0m\u001b[0masarray\u001b[0m\u001b[0;34m(\u001b[0m\u001b[0marray\u001b[0m\u001b[0;34m,\u001b[0m \u001b[0mdtype\u001b[0m\u001b[0;34m=\u001b[0m\u001b[0mdtype\u001b[0m\u001b[0;34m)\u001b[0m\u001b[0;34m\u001b[0m\u001b[0m",
        "\u001b[0;32m--> 233\u001b[0;31m                 \u001b[0m_assert_all_finite\u001b[0m\u001b[0;34m(\u001b[0m\u001b[0marray\u001b[0m\u001b[0;34m)\u001b[0m\u001b[0;34m\u001b[0m\u001b[0m",
        "\u001b[0m\u001b[1;32m    234\u001b[0m \u001b[0;34m\u001b[0m\u001b[0m",
        "\u001b[1;32m    235\u001b[0m         \u001b[0;32mif\u001b[0m \u001b[0mcopy\u001b[0m \u001b[0;32mand\u001b[0m \u001b[0marray\u001b[0m \u001b[0;32mis\u001b[0m \u001b[0marray_orig\u001b[0m\u001b[0;34m:\u001b[0m\u001b[0;34m\u001b[0m\u001b[0m",
        "\u001b[0;32m/usr/lib/python2.7/dist-packages/sklearn/utils/validation.pyc\u001b[0m in \u001b[0;36m_assert_all_finite\u001b[0;34m(X)\u001b[0m",
        "\u001b[1;32m     25\u001b[0m     if (X.dtype.char in np.typecodes['AllFloat'] and not np.isfinite(X.sum())",
        "\u001b[1;32m     26\u001b[0m             and not np.isfinite(X).all()):",
        "\u001b[0;32m---> 27\u001b[0;31m         \u001b[0;32mraise\u001b[0m \u001b[0mValueError\u001b[0m\u001b[0;34m(\u001b[0m\u001b[0;34m\"Array contains NaN or infinity.\"\u001b[0m\u001b[0;34m)\u001b[0m\u001b[0;34m\u001b[0m\u001b[0m",
        "\u001b[0m\u001b[1;32m     28\u001b[0m \u001b[0;34m\u001b[0m\u001b[0m",
        "\u001b[1;32m     29\u001b[0m \u001b[0;34m\u001b[0m\u001b[0m",
        "\u001b[0;31mValueError\u001b[0m: Array contains NaN or infinity.",
        "",
        "[2:apply]: ",
        "\u001b[0;31m---------------------------------------------------------------------------\u001b[0m",
        "\u001b[0;31mValueError\u001b[0m                                Traceback (most recent call last)\u001b[0;32m<string>\u001b[0m in \u001b[0;36m<module>\u001b[0;34m()\u001b[0m",
        "\u001b[0;32m<ipython-input-11-fa8b2c513331>\u001b[0m in \u001b[0;36mcompute_ap_chisq\u001b[0;34m((query, layer))\u001b[0m",
        "\u001b[0;32m/usr/lib/python2.7/dist-packages/sklearn/metrics/metrics.pyc\u001b[0m in \u001b[0;36maverage_precision_score\u001b[0;34m(y_true, y_score)\u001b[0m",
        "\u001b[1;32m    311\u001b[0m \u001b[0;34m\u001b[0m\u001b[0m",
        "\u001b[1;32m    312\u001b[0m     \"\"\"",
        "\u001b[0;32m--> 313\u001b[0;31m     \u001b[0mprecision\u001b[0m\u001b[0;34m,\u001b[0m \u001b[0mrecall\u001b[0m\u001b[0;34m,\u001b[0m \u001b[0mthresholds\u001b[0m \u001b[0;34m=\u001b[0m \u001b[0mprecision_recall_curve\u001b[0m\u001b[0;34m(\u001b[0m\u001b[0my_true\u001b[0m\u001b[0;34m,\u001b[0m \u001b[0my_score\u001b[0m\u001b[0;34m)\u001b[0m\u001b[0;34m\u001b[0m\u001b[0m",
        "\u001b[0m\u001b[1;32m    314\u001b[0m     \u001b[0;32mreturn\u001b[0m \u001b[0mauc\u001b[0m\u001b[0;34m(\u001b[0m\u001b[0mrecall\u001b[0m\u001b[0;34m,\u001b[0m \u001b[0mprecision\u001b[0m\u001b[0;34m)\u001b[0m\u001b[0;34m\u001b[0m\u001b[0m",
        "\u001b[1;32m    315\u001b[0m \u001b[0;34m\u001b[0m\u001b[0m",
        "\u001b[0;32m/usr/lib/python2.7/dist-packages/sklearn/metrics/metrics.pyc\u001b[0m in \u001b[0;36mprecision_recall_curve\u001b[0;34m(y_true, probas_pred, pos_label)\u001b[0m",
        "\u001b[1;32m    594\u001b[0m \u001b[0;34m\u001b[0m\u001b[0m",
        "\u001b[1;32m    595\u001b[0m     \"\"\"",
        "\u001b[0;32m--> 596\u001b[0;31m     \u001b[0mfps\u001b[0m\u001b[0;34m,\u001b[0m \u001b[0mtps\u001b[0m\u001b[0;34m,\u001b[0m \u001b[0mthresholds\u001b[0m \u001b[0;34m=\u001b[0m \u001b[0m_binary_clf_curve\u001b[0m\u001b[0;34m(\u001b[0m\u001b[0my_true\u001b[0m\u001b[0;34m,\u001b[0m \u001b[0mprobas_pred\u001b[0m\u001b[0;34m)\u001b[0m\u001b[0;34m\u001b[0m\u001b[0m",
        "\u001b[0m\u001b[1;32m    597\u001b[0m \u001b[0;34m\u001b[0m\u001b[0m",
        "\u001b[1;32m    598\u001b[0m     \u001b[0mprecision\u001b[0m \u001b[0;34m=\u001b[0m \u001b[0mtps\u001b[0m \u001b[0;34m/\u001b[0m \u001b[0;34m(\u001b[0m\u001b[0mtps\u001b[0m \u001b[0;34m+\u001b[0m \u001b[0mfps\u001b[0m\u001b[0;34m)\u001b[0m\u001b[0;34m\u001b[0m\u001b[0m",
        "\u001b[0;32m/usr/lib/python2.7/dist-packages/sklearn/metrics/metrics.pyc\u001b[0m in \u001b[0;36m_binary_clf_curve\u001b[0;34m(y_true, y_score, pos_label)\u001b[0m",
        "\u001b[1;32m    502\u001b[0m         \u001b[0mDecreasing\u001b[0m \u001b[0mscore\u001b[0m \u001b[0mvalues\u001b[0m\u001b[0;34m.\u001b[0m\u001b[0;34m\u001b[0m\u001b[0m",
        "\u001b[1;32m    503\u001b[0m     \"\"\"",
        "\u001b[0;32m--> 504\u001b[0;31m     \u001b[0my_true\u001b[0m\u001b[0;34m,\u001b[0m \u001b[0my_score\u001b[0m \u001b[0;34m=\u001b[0m \u001b[0mcheck_arrays\u001b[0m\u001b[0;34m(\u001b[0m\u001b[0my_true\u001b[0m\u001b[0;34m,\u001b[0m \u001b[0my_score\u001b[0m\u001b[0;34m)\u001b[0m\u001b[0;34m\u001b[0m\u001b[0m",
        "\u001b[0m\u001b[1;32m    505\u001b[0m     \u001b[0my_true\u001b[0m \u001b[0;34m=\u001b[0m \u001b[0mcolumn_or_1d\u001b[0m\u001b[0;34m(\u001b[0m\u001b[0my_true\u001b[0m\u001b[0;34m)\u001b[0m\u001b[0;34m\u001b[0m\u001b[0m",
        "\u001b[1;32m    506\u001b[0m     \u001b[0my_score\u001b[0m \u001b[0;34m=\u001b[0m \u001b[0mcolumn_or_1d\u001b[0m\u001b[0;34m(\u001b[0m\u001b[0my_score\u001b[0m\u001b[0;34m)\u001b[0m\u001b[0;34m\u001b[0m\u001b[0m",
        "\u001b[0;32m/usr/lib/python2.7/dist-packages/sklearn/utils/validation.pyc\u001b[0m in \u001b[0;36mcheck_arrays\u001b[0;34m(*arrays, **options)\u001b[0m",
        "\u001b[1;32m    231\u001b[0m                 \u001b[0;32melse\u001b[0m\u001b[0;34m:\u001b[0m\u001b[0;34m\u001b[0m\u001b[0m",
        "\u001b[1;32m    232\u001b[0m                     \u001b[0marray\u001b[0m \u001b[0;34m=\u001b[0m \u001b[0mnp\u001b[0m\u001b[0;34m.\u001b[0m\u001b[0masarray\u001b[0m\u001b[0;34m(\u001b[0m\u001b[0marray\u001b[0m\u001b[0;34m,\u001b[0m \u001b[0mdtype\u001b[0m\u001b[0;34m=\u001b[0m\u001b[0mdtype\u001b[0m\u001b[0;34m)\u001b[0m\u001b[0;34m\u001b[0m\u001b[0m",
        "\u001b[0;32m--> 233\u001b[0;31m                 \u001b[0m_assert_all_finite\u001b[0m\u001b[0;34m(\u001b[0m\u001b[0marray\u001b[0m\u001b[0;34m)\u001b[0m\u001b[0;34m\u001b[0m\u001b[0m",
        "\u001b[0m\u001b[1;32m    234\u001b[0m \u001b[0;34m\u001b[0m\u001b[0m",
        "\u001b[1;32m    235\u001b[0m         \u001b[0;32mif\u001b[0m \u001b[0mcopy\u001b[0m \u001b[0;32mand\u001b[0m \u001b[0marray\u001b[0m \u001b[0;32mis\u001b[0m \u001b[0marray_orig\u001b[0m\u001b[0;34m:\u001b[0m\u001b[0;34m\u001b[0m\u001b[0m",
        "\u001b[0;32m/usr/lib/python2.7/dist-packages/sklearn/utils/validation.pyc\u001b[0m in \u001b[0;36m_assert_all_finite\u001b[0;34m(X)\u001b[0m",
        "\u001b[1;32m     25\u001b[0m     if (X.dtype.char in np.typecodes['AllFloat'] and not np.isfinite(X.sum())",
        "\u001b[1;32m     26\u001b[0m             and not np.isfinite(X).all()):",
        "\u001b[0;32m---> 27\u001b[0;31m         \u001b[0;32mraise\u001b[0m \u001b[0mValueError\u001b[0m\u001b[0;34m(\u001b[0m\u001b[0;34m\"Array contains NaN or infinity.\"\u001b[0m\u001b[0;34m)\u001b[0m\u001b[0;34m\u001b[0m\u001b[0m",
        "\u001b[0m\u001b[1;32m     28\u001b[0m \u001b[0;34m\u001b[0m\u001b[0m",
        "\u001b[1;32m     29\u001b[0m \u001b[0;34m\u001b[0m\u001b[0m",
        "\u001b[0;31mValueError\u001b[0m: Array contains NaN or infinity.",
        "",
        "[3:apply]: ",
        "\u001b[0;31m---------------------------------------------------------------------------\u001b[0m",
        "\u001b[0;31mValueError\u001b[0m                                Traceback (most recent call last)\u001b[0;32m<string>\u001b[0m in \u001b[0;36m<module>\u001b[0;34m()\u001b[0m",
        "\u001b[0;32m<ipython-input-11-fa8b2c513331>\u001b[0m in \u001b[0;36mcompute_ap_chisq\u001b[0;34m((query, layer))\u001b[0m",
        "\u001b[0;32m/usr/lib/python2.7/dist-packages/sklearn/metrics/metrics.pyc\u001b[0m in \u001b[0;36maverage_precision_score\u001b[0;34m(y_true, y_score)\u001b[0m",
        "\u001b[1;32m    311\u001b[0m \u001b[0;34m\u001b[0m\u001b[0m",
        "\u001b[1;32m    312\u001b[0m     \"\"\"",
        "\u001b[0;32m--> 313\u001b[0;31m     \u001b[0mprecision\u001b[0m\u001b[0;34m,\u001b[0m \u001b[0mrecall\u001b[0m\u001b[0;34m,\u001b[0m \u001b[0mthresholds\u001b[0m \u001b[0;34m=\u001b[0m \u001b[0mprecision_recall_curve\u001b[0m\u001b[0;34m(\u001b[0m\u001b[0my_true\u001b[0m\u001b[0;34m,\u001b[0m \u001b[0my_score\u001b[0m\u001b[0;34m)\u001b[0m\u001b[0;34m\u001b[0m\u001b[0m",
        "\u001b[0m\u001b[1;32m    314\u001b[0m     \u001b[0;32mreturn\u001b[0m \u001b[0mauc\u001b[0m\u001b[0;34m(\u001b[0m\u001b[0mrecall\u001b[0m\u001b[0;34m,\u001b[0m \u001b[0mprecision\u001b[0m\u001b[0;34m)\u001b[0m\u001b[0;34m\u001b[0m\u001b[0m",
        "\u001b[1;32m    315\u001b[0m \u001b[0;34m\u001b[0m\u001b[0m",
        "\u001b[0;32m/usr/lib/python2.7/dist-packages/sklearn/metrics/metrics.pyc\u001b[0m in \u001b[0;36mprecision_recall_curve\u001b[0;34m(y_true, probas_pred, pos_label)\u001b[0m",
        "\u001b[1;32m    594\u001b[0m \u001b[0;34m\u001b[0m\u001b[0m",
        "\u001b[1;32m    595\u001b[0m     \"\"\"",
        "\u001b[0;32m--> 596\u001b[0;31m     \u001b[0mfps\u001b[0m\u001b[0;34m,\u001b[0m \u001b[0mtps\u001b[0m\u001b[0;34m,\u001b[0m \u001b[0mthresholds\u001b[0m \u001b[0;34m=\u001b[0m \u001b[0m_binary_clf_curve\u001b[0m\u001b[0;34m(\u001b[0m\u001b[0my_true\u001b[0m\u001b[0;34m,\u001b[0m \u001b[0mprobas_pred\u001b[0m\u001b[0;34m)\u001b[0m\u001b[0;34m\u001b[0m\u001b[0m",
        "\u001b[0m\u001b[1;32m    597\u001b[0m \u001b[0;34m\u001b[0m\u001b[0m",
        "\u001b[1;32m    598\u001b[0m     \u001b[0mprecision\u001b[0m \u001b[0;34m=\u001b[0m \u001b[0mtps\u001b[0m \u001b[0;34m/\u001b[0m \u001b[0;34m(\u001b[0m\u001b[0mtps\u001b[0m \u001b[0;34m+\u001b[0m \u001b[0mfps\u001b[0m\u001b[0;34m)\u001b[0m\u001b[0;34m\u001b[0m\u001b[0m",
        "\u001b[0;32m/usr/lib/python2.7/dist-packages/sklearn/metrics/metrics.pyc\u001b[0m in \u001b[0;36m_binary_clf_curve\u001b[0;34m(y_true, y_score, pos_label)\u001b[0m",
        "\u001b[1;32m    502\u001b[0m         \u001b[0mDecreasing\u001b[0m \u001b[0mscore\u001b[0m \u001b[0mvalues\u001b[0m\u001b[0;34m.\u001b[0m\u001b[0;34m\u001b[0m\u001b[0m",
        "\u001b[1;32m    503\u001b[0m     \"\"\"",
        "\u001b[0;32m--> 504\u001b[0;31m     \u001b[0my_true\u001b[0m\u001b[0;34m,\u001b[0m \u001b[0my_score\u001b[0m \u001b[0;34m=\u001b[0m \u001b[0mcheck_arrays\u001b[0m\u001b[0;34m(\u001b[0m\u001b[0my_true\u001b[0m\u001b[0;34m,\u001b[0m \u001b[0my_score\u001b[0m\u001b[0;34m)\u001b[0m\u001b[0;34m\u001b[0m\u001b[0m",
        "\u001b[0m\u001b[1;32m    505\u001b[0m     \u001b[0my_true\u001b[0m \u001b[0;34m=\u001b[0m \u001b[0mcolumn_or_1d\u001b[0m\u001b[0;34m(\u001b[0m\u001b[0my_true\u001b[0m\u001b[0;34m)\u001b[0m\u001b[0;34m\u001b[0m\u001b[0m",
        "\u001b[1;32m    506\u001b[0m     \u001b[0my_score\u001b[0m \u001b[0;34m=\u001b[0m \u001b[0mcolumn_or_1d\u001b[0m\u001b[0;34m(\u001b[0m\u001b[0my_score\u001b[0m\u001b[0;34m)\u001b[0m\u001b[0;34m\u001b[0m\u001b[0m",
        "\u001b[0;32m/usr/lib/python2.7/dist-packages/sklearn/utils/validation.pyc\u001b[0m in \u001b[0;36mcheck_arrays\u001b[0;34m(*arrays, **options)\u001b[0m",
        "\u001b[1;32m    231\u001b[0m                 \u001b[0;32melse\u001b[0m\u001b[0;34m:\u001b[0m\u001b[0;34m\u001b[0m\u001b[0m",
        "\u001b[1;32m    232\u001b[0m                     \u001b[0marray\u001b[0m \u001b[0;34m=\u001b[0m \u001b[0mnp\u001b[0m\u001b[0;34m.\u001b[0m\u001b[0masarray\u001b[0m\u001b[0;34m(\u001b[0m\u001b[0marray\u001b[0m\u001b[0;34m,\u001b[0m \u001b[0mdtype\u001b[0m\u001b[0;34m=\u001b[0m\u001b[0mdtype\u001b[0m\u001b[0;34m)\u001b[0m\u001b[0;34m\u001b[0m\u001b[0m",
        "\u001b[0;32m--> 233\u001b[0;31m                 \u001b[0m_assert_all_finite\u001b[0m\u001b[0;34m(\u001b[0m\u001b[0marray\u001b[0m\u001b[0;34m)\u001b[0m\u001b[0;34m\u001b[0m\u001b[0m",
        "\u001b[0m\u001b[1;32m    234\u001b[0m \u001b[0;34m\u001b[0m\u001b[0m",
        "\u001b[1;32m    235\u001b[0m         \u001b[0;32mif\u001b[0m \u001b[0mcopy\u001b[0m \u001b[0;32mand\u001b[0m \u001b[0marray\u001b[0m \u001b[0;32mis\u001b[0m \u001b[0marray_orig\u001b[0m\u001b[0;34m:\u001b[0m\u001b[0;34m\u001b[0m\u001b[0m",
        "\u001b[0;32m/usr/lib/python2.7/dist-packages/sklearn/utils/validation.pyc\u001b[0m in \u001b[0;36m_assert_all_finite\u001b[0;34m(X)\u001b[0m",
        "\u001b[1;32m     25\u001b[0m     if (X.dtype.char in np.typecodes['AllFloat'] and not np.isfinite(X.sum())",
        "\u001b[1;32m     26\u001b[0m             and not np.isfinite(X).all()):",
        "\u001b[0;32m---> 27\u001b[0;31m         \u001b[0;32mraise\u001b[0m \u001b[0mValueError\u001b[0m\u001b[0;34m(\u001b[0m\u001b[0;34m\"Array contains NaN or infinity.\"\u001b[0m\u001b[0;34m)\u001b[0m\u001b[0;34m\u001b[0m\u001b[0m",
        "\u001b[0m\u001b[1;32m     28\u001b[0m \u001b[0;34m\u001b[0m\u001b[0m",
        "\u001b[1;32m     29\u001b[0m \u001b[0;34m\u001b[0m\u001b[0m",
        "\u001b[0;31mValueError\u001b[0m: Array contains NaN or infinity.",
        "",
        "... 8 more exceptions ..."
       ]
      },
      {
       "output_type": "stream",
       "stream": "stdout",
       "text": [
        "\n",
        "Func: compute_ap_chisq\n"
       ]
      }
     ],
     "prompt_number": 106
    },
    {
     "cell_type": "code",
     "collapsed": false,
     "input": [
      "# LOL record 0.678079963262 on cos, layer 1 with clip(0,1)"
     ],
     "language": "python",
     "metadata": {},
     "outputs": []
    },
    {
     "cell_type": "code",
     "collapsed": false,
     "input": [
      "dict_results['100000.jpg']"
     ],
     "language": "python",
     "metadata": {},
     "outputs": []
    },
    {
     "cell_type": "code",
     "collapsed": false,
     "input": [
      "for q in dict_results:\n",
      "    vv = tuple(np.clip(feat, 0, 1) for feat in dict_results[q])\n",
      "    if any([not np.isfinite(x).all() for x in vv]):\n",
      "        print q"
     ],
     "language": "python",
     "metadata": {},
     "outputs": [],
     "prompt_number": 121
    },
    {
     "cell_type": "code",
     "collapsed": false,
     "input": [
      "dict_results['104203.jpg']\n",
      "vv = tuple(np.clip(feat, 0, 1) for feat in dict_results['104203.jpg'])\n",
      "print np.isfinite(vv[0]).all()\n",
      "print [not np.isfinite(x).all() for x in vv]\n",
      "if any([not np.isfinite(x).all() for x in vv]):\n",
      "        print 'asdg'"
     ],
     "language": "python",
     "metadata": {},
     "outputs": [
      {
       "output_type": "stream",
       "stream": "stdout",
       "text": [
        "True\n",
        "[False, False, False]\n"
       ]
      }
     ],
     "prompt_number": 124
    },
    {
     "cell_type": "code",
     "collapsed": false,
     "input": [
      "# Now, print the top 5 predictions.\n",
      "preds = net.top_k_prediction(scores, 5)\n",
      "scrs = scores[preds[0]]\n",
      "print '\\n'.join('%3d%% %s' % (int(s*100), c) for s, c in zip(scrs, preds[1]))"
     ],
     "language": "python",
     "metadata": {},
     "outputs": [
      {
       "output_type": "stream",
       "stream": "stdout",
       "text": [
        " 82% valley\n",
        "  8% alp\n",
        "  4% volcano\n",
        "  1% cliff\n",
        "  0% promontory\n"
       ]
      }
     ],
     "prompt_number": 70
    },
    {
     "cell_type": "code",
     "collapsed": false,
     "input": [],
     "language": "python",
     "metadata": {},
     "outputs": [],
     "prompt_number": 70
    },
    {
     "cell_type": "code",
     "collapsed": false,
     "input": [],
     "language": "python",
     "metadata": {},
     "outputs": [],
     "prompt_number": 43
    },
    {
     "cell_type": "code",
     "collapsed": false,
     "input": [
      "tstarr = dict_results['100000.jpg'][0]"
     ],
     "language": "python",
     "metadata": {},
     "outputs": [],
     "prompt_number": 85
    },
    {
     "cell_type": "code",
     "collapsed": false,
     "input": [
      "_=pyplot.hist(tstarr,bins=100)"
     ],
     "language": "python",
     "metadata": {},
     "outputs": [
      {
       "metadata": {},
       "output_type": "display_data",
       "png": "[encoded data removed]",
       "text": [
        "<matplotlib.figure.Figure at 0x34fc9bd0>"
       ]
      }
     ],
     "prompt_number": 84
    },
    {
     "cell_type": "code",
     "collapsed": false,
     "input": [],
     "language": "python",
     "metadata": {},
     "outputs": [],
     "prompt_number": 70
    },
    {
     "cell_type": "code",
     "collapsed": false,
     "input": [],
     "language": "python",
     "metadata": {},
     "outputs": [],
     "prompt_number": 70
    },
    {
     "cell_type": "code",
     "collapsed": false,
     "input": [
      "net = imagenet.DecafNet(os.path.join(imagenet_dir, 'imagenet.decafnet.epoch90'), os.path.join(imagenet_dir, 'imagenet.decafnet.meta'))"
     ],
     "language": "python",
     "metadata": {},
     "outputs": [],
     "prompt_number": 45
    },
    {
     "cell_type": "code",
     "collapsed": false,
     "input": [
      "img = pylab.imread(os.path.join(dataset_dir, 'jpg', '100000.jpg'))\n",
      "scores = net.classify(img, center_only=True)\n",
      "#feat6 = net.feature('fc6_cudanet_out')[0]"
     ],
     "language": "python",
     "metadata": {},
     "outputs": [],
     "prompt_number": 73
    },
    {
     "cell_type": "code",
     "collapsed": false,
     "input": [
      "net.feature('fc6_cudanet_out')[0]"
     ],
     "language": "python",
     "metadata": {},
     "outputs": [
      {
       "metadata": {},
       "output_type": "pyout",
       "prompt_number": 81,
       "text": [
        "array([-21.20924377, -24.58843994,  -6.51084232, ...,   4.6325531 ,\n",
        "        -4.72992659,   7.41103458], dtype=float32)"
       ]
      }
     ],
     "prompt_number": 81
    },
    {
     "cell_type": "code",
     "collapsed": false,
     "input": [
      "net.feature('fc6_neuron_cudanet_out')[0]"
     ],
     "language": "python",
     "metadata": {},
     "outputs": [
      {
       "metadata": {},
       "output_type": "pyout",
       "prompt_number": 83,
       "text": [
        "array([ 0.        ,  0.        ,  0.        , ...,  4.6325531 ,\n",
        "        0.        ,  7.41103458], dtype=float32)"
       ]
      }
     ],
     "prompt_number": 83
    },
    {
     "cell_type": "code",
     "collapsed": false,
     "input": [
      "net._net.blobs"
     ],
     "language": "python",
     "metadata": {},
     "outputs": [
      {
       "metadata": {},
       "output_type": "pyout",
       "prompt_number": 67,
       "text": [
        "{'_decaf_fc6_flatten_out': <decaf._blob.Blob at 0x5403510>,\n",
        " 'conv1_cudanet_out': <decaf._blob.Blob at 0x34fccbd0>,\n",
        " 'conv1_neuron_cudanet_out': <decaf._blob.Blob at 0x34fcce10>,\n",
        " 'conv2_cudanet_out': <decaf._blob.Blob at 0x30de9410>,\n",
        " 'conv2_neuron_cudanet_out': <decaf._blob.Blob at 0x30de94d0>,\n",
        " 'conv3_cudanet_out': <decaf._blob.Blob at 0x30de97d0>,\n",
        " 'conv3_neuron_cudanet_out': <decaf._blob.Blob at 0x30de9890>,\n",
        " 'conv4_cudanet_out': <decaf._blob.Blob at 0x30de9cd0>,\n",
        " 'conv4_neuron_cudanet_out': <decaf._blob.Blob at 0x30de9d90>,\n",
        " 'conv5_cudanet_out': <decaf._blob.Blob at 0x5403210>,\n",
        " 'conv5_neuron_cudanet_out': <decaf._blob.Blob at 0x54032d0>,\n",
        " 'data': <decaf._blob.Blob at 0x34fccad0>,\n",
        " 'fc6_cudanet_out': <decaf._blob.Blob at 0x5403590>,\n",
        " 'fc6_neuron_cudanet_out': <decaf._blob.Blob at 0x5403650>,\n",
        " 'fc6dropout_cudanet_out': <decaf._blob.Blob at 0x54037d0>,\n",
        " 'fc7_cudanet_out': <decaf._blob.Blob at 0x5403950>,\n",
        " 'fc7_neuron_cudanet_out': <decaf._blob.Blob at 0x5403a10>,\n",
        " 'fc7dropout_cudanet_out': <decaf._blob.Blob at 0x5403b90>,\n",
        " 'fc8_cudanet_out': <decaf._blob.Blob at 0x5403d10>,\n",
        " 'pool1_cudanet_out': <decaf._blob.Blob at 0x34fcced0>,\n",
        " 'pool2_cudanet_out': <decaf._blob.Blob at 0x30de9590>,\n",
        " 'pool5_cudanet_out': <decaf._blob.Blob at 0x5403390>,\n",
        " 'probs_cudanet_out': <decaf._blob.Blob at 0x5403d90>,\n",
        " 'rnorm1_cudanet_out': <decaf._blob.Blob at 0x34fccf90>,\n",
        " 'rnorm2_cudanet_out': <decaf._blob.Blob at 0x30de9650>}"
       ]
      }
     ],
     "prompt_number": 67
    },
    {
     "cell_type": "code",
     "collapsed": false,
     "input": [
      "# TODO: NOTE! very interesting image for img 100000.jpg: only two kernels are on in fact. \n",
      "\n",
      "# show what the fifth layer output look like after ReLU and pooling.\n",
      "# There are 256 channels. This is the last layer of\n",
      "# convolutional neural networks. After this layer, all computations\n",
      "# are fully connected.\n",
      "feat = net.feature('pool5_cudanet_out')[0, ::-1, :]\n",
      "print feat.shape\n",
      "_ = visualize.show_channels(feat, bg_func=np.max)"
     ],
     "language": "python",
     "metadata": {},
     "outputs": [
      {
       "output_type": "stream",
       "stream": "stdout",
       "text": [
        "(6, 6, 256)\n"
       ]
      },
      {
       "metadata": {},
       "output_type": "display_data",
       "png": "[encoded data removed]",
       "text": [
        "<matplotlib.figure.Figure at 0x53eb950>"
       ]
      }
     ],
     "prompt_number": 71
    },
    {
     "cell_type": "code",
     "collapsed": false,
     "input": [],
     "language": "python",
     "metadata": {},
     "outputs": []
    }
   ],
   "metadata": {}
  }
 ]
}