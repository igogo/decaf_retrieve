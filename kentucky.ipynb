{
 "metadata": {
  "name": ""
 },
 "nbformat": 3,
 "nbformat_minor": 0,
 "worksheets": [
  {
   "cells": [
    {
     "cell_type": "code",
     "collapsed": false,
     "input": [],
     "language": "python",
     "metadata": {},
     "outputs": [],
     "prompt_number": 17
    },
    {
     "cell_type": "code",
     "collapsed": false,
     "input": [
      "# Load the data. Make sure you have the right path to the imagenet model file.\n",
      "%matplotlib inline\n",
      "from decaf.scripts import imagenet\n",
      "from decaf.util import visualize\n",
      "from matplotlib import pyplot\n",
      "import numpy as np\n",
      "import pylab\n",
      "from sklearn.metrics import average_precision_score\n",
      "from scipy.stats import pearsonr\n",
      "import os.path\n",
      "from IPython.parallel import Client\n",
      "\n",
      "rc = Client()\n",
      "dview = rc[:]\n",
      "\n",
      "# We will use a larger figure size since many figures are fairly big.\n",
      "pylab.rcParams['figure.figsize'] = (10.0, 10.0)"
     ],
     "language": "python",
     "metadata": {},
     "outputs": [
      {
       "output_type": "stream",
       "stream": "stderr",
       "text": [
        "WARNING:root:decaf.util.pyvml: unable to load the mkl library. Using fallback options.\n"
       ]
      },
      {
       "output_type": "stream",
       "stream": "stdout",
       "text": [
        "Couldn't import dot_parser, loading of dot files will not be possible.\n"
       ]
      }
     ],
     "prompt_number": 2
    },
    {
     "cell_type": "code",
     "collapsed": false,
     "input": [
      "with dview.sync_imports():\n",
      "    from decaf.scripts import imagenet\n",
      "    import pylab\n",
      "    import os\n",
      "    import os.path\n",
      "    import numpy\n",
      "    from sklearn.metrics import average_precision_score\n",
      "    from scipy.stats import chisquare\n",
      "    import math"
     ],
     "language": "python",
     "metadata": {},
     "outputs": [
      {
       "output_type": "stream",
       "stream": "stdout",
       "text": [
        "importing imagenet from decaf.scripts on engine(s)\n",
        "importing pylab on engine(s)\n",
        "importing os on engine(s)\n",
        "importing os.path on engine(s)\n",
        "importing numpy on engine(s)\n",
        "importing average_precision_score from sklearn.metrics on engine(s)\n",
        "importing chisquare from scipy.stats on engine(s)\n",
        "importing math on engine(s)\n"
       ]
      }
     ],
     "prompt_number": 3
    },
    {
     "cell_type": "code",
     "collapsed": false,
     "input": [
      "def get_kentucky_groundtruth():\n",
      "    def name_from_i(i):\n",
      "        return 'ukbench{:05}.jpg'.format(i)\n",
      "    total = 10200\n",
      "    groupsize = 4\n",
      "    allnames = set(name_from_i(i) for i in xrange(total))\n",
      "    kentucky_map = {}\n",
      "    for igroup in xrange(total/groupsize):\n",
      "        names_in_group = set(name_from_i(igroup*4+i) for i in xrange(groupsize))\n",
      "        for imgname in names_in_group:\n",
      "            kentucky_map[imgname] = names_in_group\n",
      "    return (allnames, kentucky_map)\n",
      "    \n",
      "kentucky_names, kentucky_map = get_kentucky_groundtruth()\n",
      "\n",
      "dview['kentucky_names'] = kentucky_names\n",
      "dview['kentucky_map'] = kentucky_map"
     ],
     "language": "python",
     "metadata": {},
     "outputs": [],
     "prompt_number": 4
    },
    {
     "cell_type": "code",
     "collapsed": false,
     "input": [],
     "language": "python",
     "metadata": {},
     "outputs": [],
     "prompt_number": 4
    },
    {
     "cell_type": "code",
     "collapsed": false,
     "input": [
      "def run_net_on_img(filename):\n",
      "    dataset_dir = '../datasets/kentucky/full/'\n",
      "    imagenet_dir = 'imagenet_pretrained'    \n",
      "    \n",
      "    img = pylab.imread(os.path.join(dataset_dir, filename))\n",
      "    net = imagenet.DecafNet(os.path.join(imagenet_dir, 'imagenet.decafnet.epoch90'), os.path.join(imagenet_dir, 'imagenet.decafnet.meta'))\n",
      "    scores = net.classify(img, center_only=True)\n",
      "    feat6 = net.feature('fc6_cudanet_out')[0]\n",
      "    feat7 = net.feature('fc7_cudanet_out')[0]\n",
      "    return (feat6, feat7, scores)"
     ],
     "language": "python",
     "metadata": {},
     "outputs": [],
     "prompt_number": 5
    },
    {
     "cell_type": "code",
     "collapsed": false,
     "input": [
      "%%time\n",
      "#results = map(run_net_on_img, sorted(list(holidays_names))[:24])"
     ],
     "language": "python",
     "metadata": {},
     "outputs": [
      {
       "output_type": "stream",
       "stream": "stdout",
       "text": [
        "CPU times: user 0 ns, sys: 0 ns, total: 0 ns\n",
        "Wall time: 5.01 \u00b5s\n"
       ]
      }
     ],
     "prompt_number": 6
    },
    {
     "cell_type": "code",
     "collapsed": false,
     "input": [
      "%%time\n",
      "results = dview.map_sync(run_net_on_img, sorted(list(kentucky_names)))"
     ],
     "language": "python",
     "metadata": {},
     "outputs": [
      {
       "output_type": "stream",
       "stream": "stdout",
       "text": [
        "CPU times: user 6min 18s, sys: 23 s, total: 6min 41s\n",
        "Wall time: 36min 50s\n"
       ]
      }
     ],
     "prompt_number": 7
    },
    {
     "cell_type": "code",
     "collapsed": false,
     "input": [],
     "language": "python",
     "metadata": {},
     "outputs": [],
     "prompt_number": 7
    },
    {
     "cell_type": "code",
     "collapsed": false,
     "input": [
      "len(results)"
     ],
     "language": "python",
     "metadata": {},
     "outputs": [
      {
       "metadata": {},
       "output_type": "pyout",
       "prompt_number": 8,
       "text": [
        "10200"
       ]
      }
     ],
     "prompt_number": 8
    },
    {
     "cell_type": "code",
     "collapsed": false,
     "input": [
      "k_dict_results = {name: results[i] for i,name in enumerate(sorted(list(kentucky_names)))}\n",
      "dview['k_dict_results'] = k_dict_results"
     ],
     "language": "python",
     "metadata": {},
     "outputs": [],
     "prompt_number": 9
    },
    {
     "cell_type": "code",
     "collapsed": false,
     "input": [
      "def compute_ap_l2((query, layer)):\n",
      "    query_vector = k_dict_results[query][layer]\n",
      "    true_names = kentucky_map[query]\n",
      "    test_names = [name for name in k_dict_results]\n",
      "    y_true = numpy.zeros(len(test_names))\n",
      "    y_dist = numpy.zeros(len(test_names))\n",
      "    for iname, name in enumerate(test_names):\n",
      "        if name in true_names:\n",
      "            y_true[iname] = 1\n",
      "        vector = k_dict_results[name][layer]\n",
      "        y_dist[iname] = numpy.sum((vector - query_vector)**2)\n",
      "    order = numpy.argsort(y_dist)\n",
      "    top4 = y_true[order[:4]]\n",
      "    return numpy.sum(top4)\n",
      "\n",
      "def compute_ap_cos((query, layer)):\n",
      "    query_vector = k_dict_results[query][layer].copy()\n",
      "    query_vector /= math.sqrt(numpy.sum(query_vector**2))\n",
      "    true_names = kentucky_map[query]\n",
      "    test_names = [name for name in k_dict_results]\n",
      "    y_true = numpy.zeros(len(test_names))\n",
      "    y_score = numpy.zeros(len(test_names))\n",
      "    for iname, name in enumerate(test_names):\n",
      "        if name in true_names:\n",
      "            y_true[iname] = 1\n",
      "        vector = k_dict_results[name][layer].copy()\n",
      "        vector /= math.sqrt(numpy.sum(vector**2))\n",
      "        y_score[iname] = numpy.sum(vector * query_vector)\n",
      "    order = numpy.argsort(-y_score)\n",
      "    top4 = y_true[order[:4]]\n",
      "    return numpy.sum(top4)"
     ],
     "language": "python",
     "metadata": {},
     "outputs": [],
     "prompt_number": 10
    },
    {
     "cell_type": "code",
     "collapsed": false,
     "input": [
      "def compute_map(layer, func):\n",
      "    aps = dview.map_sync(func, ((q, layer) for q in kentucky_map))\n",
      "    #aps = dview.map_sync(func, [(q, layer) for q in kentucky_map][:400])\n",
      "    return np.mean(aps)"
     ],
     "language": "python",
     "metadata": {},
     "outputs": [],
     "prompt_number": 11
    },
    {
     "cell_type": "code",
     "collapsed": false,
     "input": [
      "ap_funcs = [compute_ap_l2, compute_ap_cos]\n",
      "#ap_funcs = [compute_ap_cos]\n",
      "#layers = [0, 1, 2]\n",
      "layers = [0, 1]"
     ],
     "language": "python",
     "metadata": {},
     "outputs": [],
     "prompt_number": 12
    },
    {
     "cell_type": "code",
     "collapsed": false,
     "input": [
      "# TODO: rename functions. the are not ap in Kentucky"
     ],
     "language": "python",
     "metadata": {},
     "outputs": []
    },
    {
     "cell_type": "code",
     "collapsed": false,
     "input": [
      "%%time\n",
      "kentucky_recall = {}\n",
      "for func in ap_funcs:\n",
      "    print 'Func:', func.__name__\n",
      "    kentucky_recall[func.__name__] = []\n",
      "    for layer in layers:\n",
      "        recall = compute_map(layer, func)\n",
      "        print recall\n",
      "        kentucky_recall[func.__name__].append(recall)"
     ],
     "language": "python",
     "metadata": {},
     "outputs": [
      {
       "output_type": "stream",
       "stream": "stdout",
       "text": [
        "Func: compute_ap_l2\n",
        "3.29049019608"
       ]
      },
      {
       "output_type": "stream",
       "stream": "stdout",
       "text": [
        "\n",
        "3.15215686275"
       ]
      },
      {
       "output_type": "stream",
       "stream": "stdout",
       "text": [
        "\n",
        "Func: compute_ap_cos\n",
        "3.4168627451"
       ]
      },
      {
       "output_type": "stream",
       "stream": "stdout",
       "text": [
        "\n",
        "3.29970588235"
       ]
      },
      {
       "output_type": "stream",
       "stream": "stdout",
       "text": [
        "\n",
        "CPU times: user 3min 34s, sys: 11.9 s, total: 3min 46s\n",
        "Wall time: 35min 26s\n"
       ]
      }
     ],
     "prompt_number": 13
    },
    {
     "cell_type": "code",
     "collapsed": false,
     "input": [],
     "language": "python",
     "metadata": {},
     "outputs": [],
     "prompt_number": 17
    },
    {
     "cell_type": "code",
     "collapsed": false,
     "input": [],
     "language": "python",
     "metadata": {},
     "outputs": []
    },
    {
     "cell_type": "code",
     "collapsed": false,
     "input": [],
     "language": "python",
     "metadata": {},
     "outputs": []
    },
    {
     "cell_type": "code",
     "collapsed": false,
     "input": [
      "layer = 0\n",
      "func= compute_ap_cos\n",
      "confidences = [np.max(k_dict_results[q][layer]) for q in kentucky_map]\n",
      "aps = dview.map_sync(func, ((q, layer) for q in kentucky_map))"
     ],
     "language": "python",
     "metadata": {},
     "outputs": [],
     "prompt_number": 14
    },
    {
     "cell_type": "code",
     "collapsed": false,
     "input": [
      "scatter(confidences, aps)"
     ],
     "language": "python",
     "metadata": {},
     "outputs": [
      {
       "metadata": {},
       "output_type": "pyout",
       "prompt_number": 15,
       "text": [
        "<matplotlib.collections.PathCollection at 0x53b4e50>"
       ]
      },
      {
       "metadata": {},
       "output_type": "display_data",
       "png": "[encoded data removed]",
       "text": [
        "<matplotlib.figure.Figure at 0x3d72dd0>"
       ]
      }
     ],
     "prompt_number": 15
    },
    {
     "cell_type": "code",
     "collapsed": false,
     "input": [
      "pearsonr(confidences, aps)"
     ],
     "language": "python",
     "metadata": {},
     "outputs": [
      {
       "metadata": {},
       "output_type": "pyout",
       "prompt_number": 16,
       "text": [
        "(-0.011342944589961115, 0.25201132874284782)"
       ]
      }
     ],
     "prompt_number": 16
    },
    {
     "cell_type": "code",
     "collapsed": false,
     "input": [],
     "language": "python",
     "metadata": {},
     "outputs": [],
     "prompt_number": 73
    },
    {
     "cell_type": "code",
     "collapsed": false,
     "input": [],
     "language": "python",
     "metadata": {},
     "outputs": [],
     "prompt_number": 73
    },
    {
     "cell_type": "code",
     "collapsed": false,
     "input": [],
     "language": "python",
     "metadata": {},
     "outputs": [],
     "prompt_number": 73
    },
    {
     "cell_type": "code",
     "collapsed": false,
     "input": [],
     "language": "python",
     "metadata": {},
     "outputs": [],
     "prompt_number": 73
    },
    {
     "cell_type": "code",
     "collapsed": false,
     "input": [],
     "language": "python",
     "metadata": {},
     "outputs": [],
     "prompt_number": 73
    },
    {
     "cell_type": "code",
     "collapsed": false,
     "input": [],
     "language": "python",
     "metadata": {},
     "outputs": [],
     "prompt_number": 16
    },
    {
     "cell_type": "code",
     "collapsed": false,
     "input": [],
     "language": "python",
     "metadata": {},
     "outputs": [],
     "prompt_number": 16
    },
    {
     "cell_type": "code",
     "collapsed": false,
     "input": [],
     "language": "python",
     "metadata": {},
     "outputs": [],
     "prompt_number": 16
    },
    {
     "cell_type": "code",
     "collapsed": false,
     "input": [],
     "language": "python",
     "metadata": {},
     "outputs": [],
     "prompt_number": 16
    },
    {
     "cell_type": "code",
     "collapsed": false,
     "input": [],
     "language": "python",
     "metadata": {},
     "outputs": [],
     "prompt_number": 70
    },
    {
     "cell_type": "code",
     "collapsed": false,
     "input": [],
     "language": "python",
     "metadata": {},
     "outputs": [],
     "prompt_number": 43
    },
    {
     "cell_type": "code",
     "collapsed": false,
     "input": [],
     "language": "python",
     "metadata": {},
     "outputs": [],
     "prompt_number": 70
    },
    {
     "cell_type": "code",
     "collapsed": false,
     "input": [],
     "language": "python",
     "metadata": {},
     "outputs": [],
     "prompt_number": 70
    },
    {
     "cell_type": "code",
     "collapsed": false,
     "input": [],
     "language": "python",
     "metadata": {},
     "outputs": [],
     "prompt_number": 70
    },
    {
     "cell_type": "code",
     "collapsed": false,
     "input": [],
     "language": "python",
     "metadata": {},
     "outputs": [],
     "prompt_number": 70
    },
    {
     "cell_type": "code",
     "collapsed": false,
     "input": [],
     "language": "python",
     "metadata": {},
     "outputs": [],
     "prompt_number": 70
    },
    {
     "cell_type": "code",
     "collapsed": false,
     "input": [],
     "language": "python",
     "metadata": {},
     "outputs": [],
     "prompt_number": 70
    },
    {
     "cell_type": "code",
     "collapsed": false,
     "input": [],
     "language": "python",
     "metadata": {},
     "outputs": [],
     "prompt_number": 16
    },
    {
     "cell_type": "code",
     "collapsed": false,
     "input": [],
     "language": "python",
     "metadata": {},
     "outputs": []
    }
   ],
   "metadata": {}
  }
 ]
}